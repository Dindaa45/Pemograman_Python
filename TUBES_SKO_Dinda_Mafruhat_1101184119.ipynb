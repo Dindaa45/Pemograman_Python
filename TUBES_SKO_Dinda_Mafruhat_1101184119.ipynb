{
  "nbformat": 4,
  "nbformat_minor": 0,
  "metadata": {
    "colab": {
      "name": "TUBES SKO_Dinda Mafruhat_1101184119.ipynb",
      "provenance": [],
      "authorship_tag": "ABX9TyPh2WfgBtHb//5ySURgKEmk",
      "include_colab_link": true
    },
    "kernelspec": {
      "name": "python3",
      "display_name": "Python 3"
    }
  },
  "cells": [
    {
      "cell_type": "markdown",
      "metadata": {
        "id": "view-in-github",
        "colab_type": "text"
      },
      "source": [
        "<a href=\"https://colab.research.google.com/github/Dindaa45/Pemograman_Python/blob/main/TUBES_SKO_Dinda_Mafruhat_1101184119.ipynb\" target=\"_parent\"><img src=\"https://colab.research.google.com/assets/colab-badge.svg\" alt=\"Open In Colab\"/></a>"
      ]
    },
    {
      "cell_type": "markdown",
      "metadata": {
        "id": "-Y7ZE_PWn5L5"
      },
      "source": [
        "**TUBES SKO**\r\n",
        "\r\n",
        "**NAMA = DINDA MAFRUHAT**\r\n",
        "\r\n",
        "**NIM = 1101184119**\r\n",
        "\r\n",
        "**KELAS = TT 42 07**\r\n",
        "\r\n"
      ]
    },
    {
      "cell_type": "markdown",
      "metadata": {
        "id": "yDUi1ERCn3n1"
      },
      "source": [
        "![FTTB.PNG](data:image/png;base64,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)"
      ]
    },
    {
      "cell_type": "markdown",
      "metadata": {
        "id": "CRIib3E1oNC4"
      },
      "source": [
        "**PENJELASAN:**\r\n",
        "\r\n",
        "Diketahui sebuah gedung 40 lantai, tiap lantai terdapat 20 kamar. \r\n",
        "\r\n",
        "Parameter - Parameter\r\n",
        "\r\n",
        "1. Menggunakan 6 Konektor\r\n",
        "\r\n",
        "2. Spliter1 ( 1:64 )\r\n",
        "\r\n",
        "3. Spliter2 ( 1:32 )\r\n",
        "\r\n",
        "4. Redaman1 **19.5 dB**\r\n",
        "\r\n",
        "5. Redaman2 **16 dB**\r\n",
        "\r\n",
        " Menggunakan Fiver jenis **G625D** dengan panjang gelombang 1490 nm dengan redaman 0.28 dB/Km. dengan melihat jumlah konektor menjadi 6 konektor dan 8 buah splicer dengan redaman sebesar 0.1 dB.\r\n",
        "\r\n"
      ]
    },
    {
      "cell_type": "code",
      "metadata": {
        "id": "9-vi-aDWq9ke"
      },
      "source": [
        "import numpy as np\r\n",
        "import matplotlib.pyplot as pl\r\n",
        "import math as m"
      ],
      "execution_count": 39,
      "outputs": []
    },
    {
      "cell_type": "code",
      "metadata": {
        "id": "zuQ9mWR6sOX5"
      },
      "source": [
        "#Nilai Lamda\r\n",
        "NtL = lambda x : 10 * np.log10(x)\r\n",
        "LtN = lambda x : 10**(x/10)\r\n",
        "\r\n",
        "#Nilai Parameter\r\n",
        "R = 0.85 #(A/W)\r\n",
        "SM = 3 #(dB)\r\n",
        "M = -0.23 #(dB)\r\n",
        "q = 1.6*10**-19\r\n",
        "id = 200*10**-9 #(A)\r\n",
        "B = 8*10**9 #(Hz)\r\n",
        "F = 1 #F(M), Faktor Gain\r\n",
        "K = 1.38*10**-23\r\n",
        "Teff = 290 #Kelvin\r\n",
        "RL = 50 #(Ohm)\r\n",
        "d = np.arange(0.116,18.117,1) #(km)\r\n",
        "L_fiber = 0.28 #(dB)  \r\n",
        "N_splicer = 8 #Jumlah Splicer\r\n",
        "L_splicer = 0.1 #(db)\r\n",
        "N_connector = 6 #Jumlah Konektor\r\n",
        "L_connector = 0.3 #(dB)\r\n",
        "L_splitter = 16 + 19.5 #(dB) \r\n",
        "Pt = 3 #Daya tx (dBm)"
      ],
      "execution_count": 40,
      "outputs": []
    },
    {
      "cell_type": "code",
      "metadata": {
        "colab": {
          "base_uri": "https://localhost:8080/"
        },
        "id": "PjU1SAoAtJc-",
        "outputId": "e8217216-9fde-4870-dad2-2ef886cd7836"
      },
      "source": [
        "#RUMUS X_receive\r\n",
        "def X_receive():\r\n",
        "  hambatan_fiber = d * L_fiber\r\n",
        "  hambatan_splicer = N_splicer * L_splicer\r\n",
        "  hambatan_connector = N_connector * L_connector\r\n",
        "\r\n",
        "  alfa_total = hambatan_fiber + hambatan_splicer + hambatan_connector + L_splitter + SM\r\n",
        "  Pr = Pt - alfa_total\r\n",
        "  return Pr\r\n",
        "\r\n",
        "Pr = X_receive()\r\n",
        "print('Daya Terima = ', Pr)"
      ],
      "execution_count": 41,
      "outputs": [
        {
          "output_type": "stream",
          "text": [
            "Daya Terima =  [-38.13248 -38.41248 -38.69248 -38.97248 -39.25248 -39.53248 -39.81248\n",
            " -40.09248 -40.37248 -40.65248 -40.93248 -41.21248 -41.49248 -41.77248\n",
            " -42.05248 -42.33248 -42.61248 -42.89248 -43.17248]\n"
          ],
          "name": "stdout"
        }
      ]
    },
    {
      "cell_type": "code",
      "metadata": {
        "colab": {
          "base_uri": "https://localhost:8080/"
        },
        "id": "cUM4ijpGtZLU",
        "outputId": "454a8e42-45e9-4106-fbe0-b21fee785e45"
      },
      "source": [
        "#Arus Dalam\r\n",
        "def arus_dalam():\r\n",
        "  Pr_num = LtN(Pr)\r\n",
        "  ip = Pr_num * R\r\n",
        "  return ip\r\n",
        "ip = arus_dalam()\r\n",
        "print(\"Ip = \", ip)"
      ],
      "execution_count": 42,
      "outputs": [
        {
          "output_type": "stream",
          "text": [
            "Ip =  [1.30668506e-04 1.22509827e-04 1.14860559e-04 1.07688896e-04\n",
            " 1.00965018e-04 9.46609646e-05 8.87505240e-05 8.32091194e-05\n",
            " 7.80137089e-05 7.31426895e-05 6.85758068e-05 6.42940710e-05\n",
            " 6.02796783e-05 5.65159361e-05 5.29871945e-05 4.96787804e-05\n",
            " 4.65769371e-05 4.36687666e-05 4.09421765e-05]\n"
          ],
          "name": "stdout"
        }
      ]
    },
    {
      "cell_type": "code",
      "metadata": {
        "colab": {
          "base_uri": "https://localhost:8080/"
        },
        "id": "P2RD697Et-UU",
        "outputId": "724ff1d0-01c4-4261-ce55-2f90e7f22384"
      },
      "source": [
        "#Signal Power\r\n",
        "def signal_power():\r\n",
        "  Is_kuadrat = (ip*M)**2\r\n",
        "  return Is_kuadrat\r\n",
        "Is_kuadrat = signal_power()\r\n",
        "print('Is^2 = ', Is_kuadrat)"
      ],
      "execution_count": 43,
      "outputs": [
        {
          "output_type": "stream",
          "text": [
            "Is^2 =  [9.03228273e-10 7.93957990e-10 6.97906950e-10 6.13475924e-10\n",
            " 5.39259151e-10 4.74020936e-10 4.16675076e-10 3.66266774e-10\n",
            " 3.21956742e-10 2.83007225e-10 2.48769724e-10 2.18674188e-10\n",
            " 1.92219536e-10 1.68965300e-10 1.48524303e-10 1.30556207e-10\n",
            " 1.14761845e-10 1.00878246e-10 8.86742499e-11]\n"
          ],
          "name": "stdout"
        }
      ]
    },
    {
      "cell_type": "code",
      "metadata": {
        "colab": {
          "base_uri": "https://localhost:8080/"
        },
        "id": "qQfI66GQuAsY",
        "outputId": "bb8ee9dc-f307-4c26-ccb9-ea36f2f85d01"
      },
      "source": [
        "#RUMUS SNR\r\n",
        "def SNR():\r\n",
        "  BDC = 2*q*id*B*(M**2)*F \r\n",
        "  SN = 2*q*ip*B*(M**2)*F \r\n",
        "  NT = (4*K*Teff*B)/RL \r\n",
        "  Signal = Is_kuadrat\r\n",
        "  Noise = BDC + SN + NT\r\n",
        "\r\n",
        "  SNR = Signal / Noise\r\n",
        "  SNR_dBm = NtL(SNR)\r\n",
        "  return SNR_dBm\r\n",
        "\r\n",
        "SNR = SNR()\r\n",
        "print(SNR)"
      ],
      "execution_count": 44,
      "outputs": [
        {
          "output_type": "stream",
          "text": [
            "[25.4434572  24.88531818 24.32706369 23.76870085 23.21023634 22.65167646\n",
            " 22.09302709 21.53429378 20.97548171 20.41659576 19.85764052 19.29862027\n",
            " 18.73953904 18.18040063 17.62120858 17.06196622 16.50267667 15.94334286\n",
            " 15.38396756]\n"
          ],
          "name": "stdout"
        }
      ]
    },
    {
      "cell_type": "code",
      "metadata": {
        "colab": {
          "base_uri": "https://localhost:8080/"
        },
        "id": "_2vZjsCXuEnq",
        "outputId": "4b8b45c4-400a-4f11-c348-89f9c4d12648"
      },
      "source": [
        "#RUMUS Y\r\n",
        "def Y_rumus():\r\n",
        "  Y_rumus = 0.5*(10**(SNR/20))\r\n",
        "  return Y_rumus\r\n",
        "Y = Y_rumus()\r\n",
        "print(Y)"
      ],
      "execution_count": 45,
      "outputs": [
        {
          "output_type": "stream",
          "text": [
            "[9.35713434 8.77477347 8.22854766 7.71622791 7.23572115 6.78506211\n",
            " 6.36240571 5.96601984 5.59427859 5.24565582 4.9187192  4.61212445\n",
            " 4.32461008 4.05499232 3.80216039 3.56507208 3.34274954 3.13427535\n",
            " 2.93878884]\n"
          ],
          "name": "stdout"
        }
      ]
    },
    {
      "cell_type": "code",
      "metadata": {
        "colab": {
          "base_uri": "https://localhost:8080/"
        },
        "id": "VIkj9g5MuHiw",
        "outputId": "85fc3a77-395d-488c-8458-519989f975d2"
      },
      "source": [
        "#RUMUS BER\r\n",
        "pengkali_list = []\r\n",
        "def BER_rumus():\r\n",
        "  akar = 1/(Y * m.sqrt(2 * m.pi))\r\n",
        "  for i in range(len(Y)):\r\n",
        "    pengkali = m.exp(-(Y[i]**2)/2)\r\n",
        "    pengkali_list.append(pengkali)\r\n",
        "  BER = (1/akar)*(pengkali_list)\r\n",
        "  return BER\r\n",
        "BER = BER_rumus()\r\n",
        "print(BER)"
      ],
      "execution_count": 46,
      "outputs": [
        {
          "output_type": "stream",
          "text": [
            "[2.27875167e-18 4.19484446e-16 4.08875734e-14 2.27777413e-12\n",
            " 7.75683450e-11 1.71325302e-09 2.58550965e-08 2.79104989e-07\n",
            " 2.24390361e-06 1.39209771e-05 6.87583361e-05 2.77908437e-04\n",
            " 9.41660577e-04 2.73234783e-03 6.91747918e-03 1.55336496e-02\n",
            " 3.13903416e-02 5.78151480e-02 9.81455342e-02]\n"
          ],
          "name": "stdout"
        }
      ]
    },
    {
      "cell_type": "code",
      "metadata": {
        "colab": {
          "base_uri": "https://localhost:8080/",
          "height": 851
        },
        "id": "R-PRmovMuKHh",
        "outputId": "37386c5b-9f3e-4246-b3b3-1e2da680a4a5"
      },
      "source": [
        "#GRAFIK\r\n",
        "def grafik_1():\r\n",
        "  pl.figure()\r\n",
        "  pl.plot(d,SNR,'c')\r\n",
        "  pl.title('Perbandingan Jarak dengan SNR')\r\n",
        "  pl.xlabel('Jarak (Km)')\r\n",
        "  pl.ylabel('SNR (dB)')\r\n",
        "  pl.show()\r\n",
        "\r\n",
        "def grafik_2():\r\n",
        "  pl.figure()\r\n",
        "  pl.plot(d,Y,'r')\r\n",
        "  pl.title('Perbandingan Jarak dengan Q')\r\n",
        "  pl.xlabel('Jarak (Km)')\r\n",
        "  pl.ylabel('Y')\r\n",
        "  pl.show()\r\n",
        "\r\n",
        "def grafik_3():\r\n",
        "  pl.figure()\r\n",
        "  pl.plot(d,BER,'y')\r\n",
        "  pl.title('Perbandingan Jarak dengan BER')\r\n",
        "  pl.xlabel('Jarak (Km)')\r\n",
        "  pl.ylabel('BER')\r\n",
        "  pl.show()\r\n",
        "\r\n",
        "grafik_1()\r\n",
        "grafik_2()\r\n",
        "grafik_3()"
      ],
      "execution_count": 47,
      "outputs": [
        {
          "output_type": "display_data",
          "data": {
            "image/png": "[encoded data removed]",
            "text/plain": [
              "<Figure size 432x288 with 1 Axes>"
            ]
          },
          "metadata": {
            "tags": [],
            "needs_background": "light"
          }
        },
        {
          "output_type": "display_data",
          "data": {
            "image/png": "[encoded data removed]",
            "text/plain": [
              "<Figure size 432x288 with 1 Axes>"
            ]
          },
          "metadata": {
            "tags": [],
            "needs_background": "light"
          }
        },
        {
          "output_type": "display_data",
          "data": {
            "image/png": "[encoded data removed]",
            "text/plain": [
              "<Figure size 432x288 with 1 Axes>"
            ]
          },
          "metadata": {
            "tags": [],
            "needs_background": "light"
          }
        }
      ]
    }
  ]
}