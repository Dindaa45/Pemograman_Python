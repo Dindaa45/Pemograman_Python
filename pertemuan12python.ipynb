{
  "nbformat": 4,
  "nbformat_minor": 0,
  "metadata": {
    "colab": {
      "name": "pertemuan12python.ipynb",
      "provenance": [],
      "authorship_tag": "ABX9TyOmLq0d1yrMyLaAzxj0t7xr",
      "include_colab_link": true
    },
    "kernelspec": {
      "name": "python3",
      "display_name": "Python 3"
    }
  },
  "cells": [
    {
      "cell_type": "markdown",
      "metadata": {
        "id": "view-in-github",
        "colab_type": "text"
      },
      "source": [
        "<a href=\"https://colab.research.google.com/github/Dindaa45/Pemograman_Python/blob/main/pertemuan12python.ipynb\" target=\"_parent\"><img src=\"https://colab.research.google.com/assets/colab-badge.svg\" alt=\"Open In Colab\"/></a>"
      ]
    },
    {
      "cell_type": "code",
      "metadata": {
        "id": "VYU0-ata2F7L"
      },
      "source": [
        "import numpy as np"
      ],
      "execution_count": null,
      "outputs": []
    },
    {
      "cell_type": "code",
      "metadata": {
        "id": "J8vRyltS2Jw0"
      },
      "source": [
        "NtL = lambda x: 10*np.log10(x)"
      ],
      "execution_count": null,
      "outputs": []
    },
    {
      "cell_type": "code",
      "metadata": {
        "colab": {
          "base_uri": "https://localhost:8080/"
        },
        "id": "UOyZMG742Wg4",
        "outputId": "cc8b0a8e-5a94-494b-8e03-f403b6847c0f"
      },
      "source": [
        "z=NtL(50)\r\n",
        "print(z)"
      ],
      "execution_count": null,
      "outputs": [
        {
          "output_type": "stream",
          "text": [
            "16.989700043360187\n"
          ],
          "name": "stdout"
        }
      ]
    },
    {
      "cell_type": "code",
      "metadata": {
        "id": "YUOZR-wm2k8I"
      },
      "source": [
        "LtN = lambda x: 10**(x/10)"
      ],
      "execution_count": null,
      "outputs": []
    },
    {
      "cell_type": "code",
      "metadata": {
        "colab": {
          "base_uri": "https://localhost:8080/"
        },
        "id": "oBLF2HzJ2svJ",
        "outputId": "469b4364-fef5-4be4-ced9-b61c736e0197"
      },
      "source": [
        "y=LtN(60)\r\n",
        "print(y)"
      ],
      "execution_count": null,
      "outputs": [
        {
          "output_type": "stream",
          "text": [
            "1000000.0\n"
          ],
          "name": "stdout"
        }
      ]
    },
    {
      "cell_type": "code",
      "metadata": {
        "colab": {
          "base_uri": "https://localhost:8080/"
        },
        "id": "A-A-FD6H5kgw",
        "outputId": "045bd14c-bc3d-43a6-cf1d-ebedb051fe2a"
      },
      "source": [
        "Lp = 69.55  + (26.16*np.log10(900)) - (13.83*np.log10(60)) - ((((1.1*np.log10(900))-0.7)*10) - ((1.56*np.log10(900))-0.8)) + ((44.9-(6.55*np.log10(60)))*np.log10(1)) + 0\r\n",
        "print(Lp)"
      ],
      "execution_count": null,
      "outputs": [
        {
          "output_type": "stream",
          "text": [
            "100.5531029650197\n"
          ],
          "name": "stdout"
        }
      ]
    },
    {
      "cell_type": "code",
      "metadata": {
        "id": "4C3jAt4-5oeL"
      },
      "source": [
        "def ploss (d, f, cm, ht, hr):\r\n",
        "  pldb= 69.55 + (26.16*np.log10(f)) - (13.83*np.log10(ht)) - ((((1.1*np.log10(f)) - 0.7) * hr) - ((1.56*np.log10(f)) - 0.8)) + ((44.9 - (6.55*np.log10(ht)))*np.log10(d)) + cm\r\n",
        "  plnum=LtN(-pldb)\r\n",
        "  return pldb,plnum"
      ],
      "execution_count": null,
      "outputs": []
    },
    {
      "cell_type": "code",
      "metadata": {
        "colab": {
          "base_uri": "https://localhost:8080/"
        },
        "id": "4GQ_vvjz5rnb",
        "outputId": "2272203d-b382-4000-bd65-732e3edb34dc"
      },
      "source": [
        "pathlossdb, pathlossnum = ploss(1, 900, 0, 60, 10)\r\n",
        "print(\"pathloss dalam db =\",pathlossdb,\"dB\")\r\n",
        "print(\"pathloss dalam numerik =\",pathlossnum,\"kali\")"
      ],
      "execution_count": null,
      "outputs": [
        {
          "output_type": "stream",
          "text": [
            "pathloss dalam db = 100.5531029650197 dB\n",
            "pathloss dalam numerik = 8.804196024257463e-11 kali\n"
          ],
          "name": "stdout"
        }
      ]
    }
  ]
}